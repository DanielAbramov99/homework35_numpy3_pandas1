{
 "cells": [
  {
   "cell_type": "code",
   "execution_count": 1,
   "id": "c1a9c785-b604-4b87-9597-8b11aefeec5d",
   "metadata": {},
   "outputs": [],
   "source": [
    "import numpy as np\n",
    "import pandas as pd\n",
    "np.set_printoptions(suppress=True, formatter={'float_kind': '{:0.1f}'.format})\n",
    "from IPython.display import display"
   ]
  },
  {
   "cell_type": "code",
   "execution_count": 42,
   "id": "631e43a8-1140-4ced-9e8e-e77fad3cdedb",
   "metadata": {},
   "outputs": [
    {
     "data": {
      "text/plain": [
       "array([[48, 61, 39, 84],\n",
       "       [11, 51,  4, 87],\n",
       "       [24, 16, 82,  6],\n",
       "       [65, 10, 93, 43]])"
      ]
     },
     "metadata": {},
     "output_type": "display_data"
    },
    {
     "data": {
      "text/plain": [
       "array([61, 84, 51, 87, 82, 65, 93])"
      ]
     },
     "metadata": {},
     "output_type": "display_data"
    },
    {
     "name": "stdout",
     "output_type": "stream",
     "text": [
      "summary of the first row: 232\n",
      "summary of the second row: 153\n",
      "summary of the third row: 128\n",
      "summary of the fourth row: 211\n",
      "Summary of the first column: 148\n",
      "Summary of the second column: 138\n",
      "Summary of the third column: 218\n",
      "Summary of the fourth column: 220\n",
      "the biggest number in the first row 84\n",
      "the biggest number in the second row 87\n",
      "the biggest number in the third row 82\n",
      "the biggest number in the fourth row 93\n",
      "the smallest number in the first row 39\n",
      "the smallest number in the second row 4\n",
      "the smallest number in the third row 6\n",
      "the smallest number in the fourth row 10\n",
      "the biggest number in the first column 65\n",
      "the biggest number in the second column 61\n",
      "the biggest number in the third column 93\n",
      "the biggest number in the fourth column 87\n",
      "the smallest number in the first column 11\n",
      "the smallest number in the second column 10\n",
      "the smallest number in the third column 4\n",
      "the smallest number in the fourth column 6\n",
      "the average number in the first row 58.0\n",
      "the average number in the second row 38.25\n",
      "the average number in the third row 32.0\n",
      "the average number in the fourth row 52.75\n",
      "the average number in the first column 37.0\n",
      "the average number in the second column 34.5\n",
      "the average number in the third column 54.5\n",
      "the average number in the fourth column 55.0\n"
     ]
    }
   ],
   "source": [
    "np.random.seed(80)\n",
    "array1=np.random.randint(1, 101, (4, 4))\n",
    "display(array1)\n",
    "display(array1[array1 > 50])\n",
    "print('summary of the first row:', array1[0].sum(axis=0))\n",
    "print('summary of the second row:', array1[1].sum(axis=0))\n",
    "print('summary of the third row:', array1[2].sum(axis=0))\n",
    "print('summary of the fourth row:', array1[3].sum(axis=0))\n",
    "\n",
    "print('Summary of the first column:', array1[:, 0].sum(axis=0))\n",
    "print('Summary of the second column:', array1[:, 1].sum(axis=0))\n",
    "print('Summary of the third column:', array1[:, 2].sum(axis=0))\n",
    "print('Summary of the fourth column:', array1[:, 3].sum(axis=0))\n",
    "\n",
    "print('the biggest number in the first row', np.max(array1[0]))\n",
    "print('the biggest number in the second row', np.max(array1[1]))\n",
    "print('the biggest number in the third row', np.max(array1[2]))\n",
    "print('the biggest number in the fourth row', np.max(array1[3]))\n",
    "\n",
    "print('the smallest number in the first row', np.min(array1[0]))\n",
    "print('the smallest number in the second row', np.min(array1[1]))\n",
    "print('the smallest number in the third row', np.min(array1[2]))\n",
    "print('the smallest number in the fourth row', np.min(array1[3]))\n",
    "\n",
    "print('the biggest number in the first column', np.max(array1[:, 0]))\n",
    "print('the biggest number in the second column', np.max(array1[:, 1]))\n",
    "print('the biggest number in the third column', np.max(array1[:, 2]))\n",
    "print('the biggest number in the fourth column', np.max(array1[:, 3]))\n",
    "\n",
    "print('the smallest number in the first column', np.min(array1[:, 0]))\n",
    "print('the smallest number in the second column', np.min(array1[:, 1]))\n",
    "print('the smallest number in the third column', np.min(array1[:, 2]))\n",
    "print('the smallest number in the fourth column', np.min(array1[:, 3]))\n",
    "\n",
    "print('the average number in the first row', np.mean(array1[0]))\n",
    "print('the average number in the second row', np.mean(array1[1]))\n",
    "print('the average number in the third row', np.mean(array1[2]))\n",
    "print('the average number in the fourth row', np.mean(array1[3]))\n",
    "\n",
    "print('the average number in the first column', np.mean(array1[:, 0]))\n",
    "print('the average number in the second column', np.mean(array1[:, 1]))\n",
    "print('the average number in the third column', np.mean(array1[:, 2]))\n",
    "print('the average number in the fourth column', np.mean(array1[:, 3]))"
   ]
  },
  {
   "cell_type": "code",
   "execution_count": 76,
   "id": "8b5f201f-28cc-4888-8313-d043828617e5",
   "metadata": {},
   "outputs": [
    {
     "data": {
      "text/plain": [
       "Final Fantasy VII Rebirth            69.99\n",
       "Astro Bot                            59.99\n",
       "Star Wars Outlaws                    69.99\n",
       "Silent Hill 2 Remake                 69.99\n",
       "Elden Ring: Shadow of the Erdtree    39.99\n",
       "Dragon Age: The Veilguard            69.99\n",
       "Metaphor: ReFantazio                 59.99\n",
       "dtype: float64"
      ]
     },
     "metadata": {},
     "output_type": "display_data"
    },
    {
     "name": "stdout",
     "output_type": "stream",
     "text": [
      "the price of Metaphor: 59.99\n",
      "all the titles: ['Final Fantasy VII Rebirth', 'Astro Bot', 'Star Wars Outlaws', 'Silent Hill 2 Remake', 'Elden Ring: Shadow of the Erdtree', 'Dragon Age: The Veilguard', 'Metaphor: ReFantazio']\n",
      "the price of third game: 69.99\n",
      "the summaty of all the games prices: 439.93\n"
     ]
    }
   ],
   "source": [
    "price = [69.99,59.99,69.99,69.99,39.99,69.99,59.99]  \n",
    "title = [\"Final Fantasy VII Rebirth\", \"Astro Bot\", \"Star Wars Outlaws\",\"Silent Hill 2 Remake\", \"Elden Ring: Shadow of the Erdtree\",\"Dragon Age: The Veilguard\",\"Metaphor: ReFantazio\"]\n",
    "new_games = pd.Series(data=price, index=title)\n",
    "display(new_games)\n",
    "print(\"the price of Metaphor:\",new_games[\"Metaphor: ReFantazio\"])\n",
    "print(\"all the titles:\",list( new_games.keys()))\n",
    "print(\"the price of third game:\", new_games.iloc[3])\n",
    "print(\"the summaty of all the games prices:\", new_games.values.sum())\n"
   ]
  }
 ],
 "metadata": {
  "kernelspec": {
   "display_name": "Python 3 (ipykernel)",
   "language": "python",
   "name": "python3"
  },
  "language_info": {
   "codemirror_mode": {
    "name": "ipython",
    "version": 3
   },
   "file_extension": ".py",
   "mimetype": "text/x-python",
   "name": "python",
   "nbconvert_exporter": "python",
   "pygments_lexer": "ipython3",
   "version": "3.12.7"
  }
 },
 "nbformat": 4,
 "nbformat_minor": 5
}
